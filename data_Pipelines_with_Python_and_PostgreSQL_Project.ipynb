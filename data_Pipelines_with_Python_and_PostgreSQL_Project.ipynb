{
  "nbformat": 4,
  "nbformat_minor": 0,
  "metadata": {
    "colab": {
      "provenance": []
    },
    "kernelspec": {
      "name": "python3",
      "display_name": "Python 3"
    },
    "language_info": {
      "name": "python"
    }
  },
  "cells": [
    {
      "cell_type": "markdown",
      "source": [
        "# Data Pipelines with Python and PostgreSQL Project"
      ],
      "metadata": {
        "id": "qFVKjV4kC1lE"
      }
    },
    {
      "cell_type": "code",
      "execution_count": 15,
      "metadata": {
        "colab": {
          "base_uri": "https://localhost:8080/"
        },
        "id": "M30SoaJFaauF",
        "outputId": "4236e801-b4cd-4f45-cce5-89ffbead9e6f"
      },
      "outputs": [
        {
          "output_type": "stream",
          "name": "stdout",
          "text": [
            "Looking in indexes: https://pypi.org/simple, https://us-python.pkg.dev/colab-wheels/public/simple/\n",
            "Requirement already satisfied: psycopg2 in /usr/local/lib/python3.9/dist-packages (2.9.5)\n"
          ]
        }
      ],
      "source": [
        "pip install psycopg2"
      ]
    },
    {
      "cell_type": "markdown",
      "source": [
        "## Data Extraction"
      ],
      "metadata": {
        "id": "xCSSNUB0C7Gb"
      }
    },
    {
      "cell_type": "code",
      "source": [
        "import pandas as pd\n",
        "\n",
        "# Load equipment sensor data from CSV file\n",
        "equipment_sensor = pd.read_csv('equipment_sensor.csv')\n",
        "\n",
        "# Load maintenance records data from CSV file\n",
        "maintenance_records = pd.read_csv('maintenance_records.csv')\n",
        "\n",
        "# # Load network sensor data from CSV file\n",
        "network_sensor = pd.read_csv('network_sensor.csv')\n",
        "\n"
      ],
      "metadata": {
        "id": "fmGSehouAVcI"
      },
      "execution_count": 4,
      "outputs": []
    },
    {
      "cell_type": "markdown",
      "source": [
        "## Data Transformation"
      ],
      "metadata": {
        "id": "xFUEImfaDSY7"
      }
    },
    {
      "cell_type": "code",
      "source": [
        "# Check missing values\n",
        "network_sensor.isna().sum()"
      ],
      "metadata": {
        "colab": {
          "base_uri": "https://localhost:8080/"
        },
        "id": "CzBUJRYEDJAE",
        "outputId": "cb1a2c04-ea1b-4e4f-c08f-f3bf0ae1608a"
      },
      "execution_count": 16,
      "outputs": [
        {
          "output_type": "execute_result",
          "data": {
            "text/plain": [
              "ID                0\n",
              "date              0\n",
              "time              0\n",
              "sensor_reading    0\n",
              "dtype: int64"
            ]
          },
          "metadata": {},
          "execution_count": 16
        }
      ]
    },
    {
      "cell_type": "code",
      "source": [
        "# Check missing values\n",
        "equipment_sensor.isna().sum()\n"
      ],
      "metadata": {
        "colab": {
          "base_uri": "https://localhost:8080/"
        },
        "id": "15siUjX7J7L9",
        "outputId": "85cef40c-bc82-4bed-f75d-4b4b16ef048a"
      },
      "execution_count": 19,
      "outputs": [
        {
          "output_type": "execute_result",
          "data": {
            "text/plain": [
              "ID                0\n",
              "date              0\n",
              "time              0\n",
              "sensor_reading    0\n",
              "dtype: int64"
            ]
          },
          "metadata": {},
          "execution_count": 19
        }
      ]
    },
    {
      "cell_type": "code",
      "source": [
        "# Check missing values\n",
        "maintenance_records.isna().sum()"
      ],
      "metadata": {
        "colab": {
          "base_uri": "https://localhost:8080/"
        },
        "id": "5zeO0ReuKBFM",
        "outputId": "27267e0d-051a-4f63-c40e-1c898e718796"
      },
      "execution_count": 20,
      "outputs": [
        {
          "output_type": "execute_result",
          "data": {
            "text/plain": [
              "ID                  0\n",
              "date                0\n",
              "time                0\n",
              "equipment_ID        0\n",
              "maintenance_type    0\n",
              "dtype: int64"
            ]
          },
          "metadata": {},
          "execution_count": 20
        }
      ]
    },
    {
      "cell_type": "code",
      "source": [
        "# Rename columns\n",
        "equipment_sensor.rename(columns = {'sensor_reading':'equipment_sensor_reading'}, inplace = True)\n",
        "network_sensor.rename(columns = {'sensor_reading':'network_sensor_reading'}, inplace = True)\n"
      ],
      "metadata": {
        "id": "lEac5TQ4Fofj"
      },
      "execution_count": 21,
      "outputs": []
    },
    {
      "cell_type": "code",
      "source": [
        "# Merge datasets\n",
        "sensor_data = pd.merge(equipment_sensor, network_sensor, on=['ID', 'date', 'time'])\n",
        "sensor_data"
      ],
      "metadata": {
        "colab": {
          "base_uri": "https://localhost:8080/",
          "height": 237
        },
        "id": "mCef9MsYGHi5",
        "outputId": "33a4efaa-410e-4cb1-a919-bcf25b3fc311"
      },
      "execution_count": 24,
      "outputs": [
        {
          "output_type": "execute_result",
          "data": {
            "text/plain": [
              "   ID        date      time  equipment_sensor_reading  network_sensor_reading\n",
              "0   1  2022-03-01  08:00:00                      26.7                    0.58\n",
              "1   1  2022-03-01  08:15:00                      28.4                    0.62\n",
              "2   1  2022-03-01  08:30:00                      27.8                    0.60\n",
              "3   2  2022-03-01  08:00:00                      99.1                    0.89\n",
              "4   2  2022-03-01  08:15:00                      97.5                    0.85\n",
              "5   2  2022-03-01  08:30:00                      98.2                    0.88"
            ],
            "text/html": [
              "\n",
              "  <div id=\"df-417ec6b5-7d9e-4c48-83cd-569cd8c45b60\">\n",
              "    <div class=\"colab-df-container\">\n",
              "      <div>\n",
              "<style scoped>\n",
              "    .dataframe tbody tr th:only-of-type {\n",
              "        vertical-align: middle;\n",
              "    }\n",
              "\n",
              "    .dataframe tbody tr th {\n",
              "        vertical-align: top;\n",
              "    }\n",
              "\n",
              "    .dataframe thead th {\n",
              "        text-align: right;\n",
              "    }\n",
              "</style>\n",
              "<table border=\"1\" class=\"dataframe\">\n",
              "  <thead>\n",
              "    <tr style=\"text-align: right;\">\n",
              "      <th></th>\n",
              "      <th>ID</th>\n",
              "      <th>date</th>\n",
              "      <th>time</th>\n",
              "      <th>equipment_sensor_reading</th>\n",
              "      <th>network_sensor_reading</th>\n",
              "    </tr>\n",
              "  </thead>\n",
              "  <tbody>\n",
              "    <tr>\n",
              "      <th>0</th>\n",
              "      <td>1</td>\n",
              "      <td>2022-03-01</td>\n",
              "      <td>08:00:00</td>\n",
              "      <td>26.7</td>\n",
              "      <td>0.58</td>\n",
              "    </tr>\n",
              "    <tr>\n",
              "      <th>1</th>\n",
              "      <td>1</td>\n",
              "      <td>2022-03-01</td>\n",
              "      <td>08:15:00</td>\n",
              "      <td>28.4</td>\n",
              "      <td>0.62</td>\n",
              "    </tr>\n",
              "    <tr>\n",
              "      <th>2</th>\n",
              "      <td>1</td>\n",
              "      <td>2022-03-01</td>\n",
              "      <td>08:30:00</td>\n",
              "      <td>27.8</td>\n",
              "      <td>0.60</td>\n",
              "    </tr>\n",
              "    <tr>\n",
              "      <th>3</th>\n",
              "      <td>2</td>\n",
              "      <td>2022-03-01</td>\n",
              "      <td>08:00:00</td>\n",
              "      <td>99.1</td>\n",
              "      <td>0.89</td>\n",
              "    </tr>\n",
              "    <tr>\n",
              "      <th>4</th>\n",
              "      <td>2</td>\n",
              "      <td>2022-03-01</td>\n",
              "      <td>08:15:00</td>\n",
              "      <td>97.5</td>\n",
              "      <td>0.85</td>\n",
              "    </tr>\n",
              "    <tr>\n",
              "      <th>5</th>\n",
              "      <td>2</td>\n",
              "      <td>2022-03-01</td>\n",
              "      <td>08:30:00</td>\n",
              "      <td>98.2</td>\n",
              "      <td>0.88</td>\n",
              "    </tr>\n",
              "  </tbody>\n",
              "</table>\n",
              "</div>\n",
              "      <button class=\"colab-df-convert\" onclick=\"convertToInteractive('df-417ec6b5-7d9e-4c48-83cd-569cd8c45b60')\"\n",
              "              title=\"Convert this dataframe to an interactive table.\"\n",
              "              style=\"display:none;\">\n",
              "        \n",
              "  <svg xmlns=\"http://www.w3.org/2000/svg\" height=\"24px\"viewBox=\"0 0 24 24\"\n",
              "       width=\"24px\">\n",
              "    <path d=\"M0 0h24v24H0V0z\" fill=\"none\"/>\n",
              "    <path d=\"M18.56 5.44l.94 2.06.94-2.06 2.06-.94-2.06-.94-.94-2.06-.94 2.06-2.06.94zm-11 1L8.5 8.5l.94-2.06 2.06-.94-2.06-.94L8.5 2.5l-.94 2.06-2.06.94zm10 10l.94 2.06.94-2.06 2.06-.94-2.06-.94-.94-2.06-.94 2.06-2.06.94z\"/><path d=\"M17.41 7.96l-1.37-1.37c-.4-.4-.92-.59-1.43-.59-.52 0-1.04.2-1.43.59L10.3 9.45l-7.72 7.72c-.78.78-.78 2.05 0 2.83L4 21.41c.39.39.9.59 1.41.59.51 0 1.02-.2 1.41-.59l7.78-7.78 2.81-2.81c.8-.78.8-2.07 0-2.86zM5.41 20L4 18.59l7.72-7.72 1.47 1.35L5.41 20z\"/>\n",
              "  </svg>\n",
              "      </button>\n",
              "      \n",
              "  <style>\n",
              "    .colab-df-container {\n",
              "      display:flex;\n",
              "      flex-wrap:wrap;\n",
              "      gap: 12px;\n",
              "    }\n",
              "\n",
              "    .colab-df-convert {\n",
              "      background-color: #E8F0FE;\n",
              "      border: none;\n",
              "      border-radius: 50%;\n",
              "      cursor: pointer;\n",
              "      display: none;\n",
              "      fill: #1967D2;\n",
              "      height: 32px;\n",
              "      padding: 0 0 0 0;\n",
              "      width: 32px;\n",
              "    }\n",
              "\n",
              "    .colab-df-convert:hover {\n",
              "      background-color: #E2EBFA;\n",
              "      box-shadow: 0px 1px 2px rgba(60, 64, 67, 0.3), 0px 1px 3px 1px rgba(60, 64, 67, 0.15);\n",
              "      fill: #174EA6;\n",
              "    }\n",
              "\n",
              "    [theme=dark] .colab-df-convert {\n",
              "      background-color: #3B4455;\n",
              "      fill: #D2E3FC;\n",
              "    }\n",
              "\n",
              "    [theme=dark] .colab-df-convert:hover {\n",
              "      background-color: #434B5C;\n",
              "      box-shadow: 0px 1px 3px 1px rgba(0, 0, 0, 0.15);\n",
              "      filter: drop-shadow(0px 1px 2px rgba(0, 0, 0, 0.3));\n",
              "      fill: #FFFFFF;\n",
              "    }\n",
              "  </style>\n",
              "\n",
              "      <script>\n",
              "        const buttonEl =\n",
              "          document.querySelector('#df-417ec6b5-7d9e-4c48-83cd-569cd8c45b60 button.colab-df-convert');\n",
              "        buttonEl.style.display =\n",
              "          google.colab.kernel.accessAllowed ? 'block' : 'none';\n",
              "\n",
              "        async function convertToInteractive(key) {\n",
              "          const element = document.querySelector('#df-417ec6b5-7d9e-4c48-83cd-569cd8c45b60');\n",
              "          const dataTable =\n",
              "            await google.colab.kernel.invokeFunction('convertToInteractive',\n",
              "                                                     [key], {});\n",
              "          if (!dataTable) return;\n",
              "\n",
              "          const docLinkHtml = 'Like what you see? Visit the ' +\n",
              "            '<a target=\"_blank\" href=https://colab.research.google.com/notebooks/data_table.ipynb>data table notebook</a>'\n",
              "            + ' to learn more about interactive tables.';\n",
              "          element.innerHTML = '';\n",
              "          dataTable['output_type'] = 'display_data';\n",
              "          await google.colab.output.renderOutput(dataTable, element);\n",
              "          const docLink = document.createElement('div');\n",
              "          docLink.innerHTML = docLinkHtml;\n",
              "          element.appendChild(docLink);\n",
              "        }\n",
              "      </script>\n",
              "    </div>\n",
              "  </div>\n",
              "  "
            ]
          },
          "metadata": {},
          "execution_count": 24
        }
      ]
    },
    {
      "cell_type": "markdown",
      "source": [
        "## Data Loading"
      ],
      "metadata": {
        "id": "F4TXa5P6DckD"
      }
    },
    {
      "cell_type": "code",
      "source": [
        "import psycopg2\n",
        "\n",
        "conn = psycopg2.connect(\n",
        "    host=\"34.135.149.37\",\n",
        "    database=\"mydb1\",\n",
        "    user=\"studentj\",\n",
        "    password=\"minimum7467!\"\n",
        ")\n",
        "\n",
        "# create a cursor object\n",
        "cur = conn.cursor()\n",
        "\n",
        "cur.execute(\"CREATE TABLE IF NOT EXISTS sensors (ID SERIAL PRIMARY KEY, date VARCHAR(255), time VARCHAR(255), network_sensor_reading VARCHAR(255), equipment_sensor_reading VARCHAR(255))\")\n",
        "conn.commit()\n",
        "\n",
        "df.to_sql('sensors', con=conn, if_exists='append', index=False)\n",
        "\n",
        "# close the cursor and connection\n",
        "cur.close()\n",
        "conn.close()"
      ],
      "metadata": {
        "id": "sGutDK9UDFiF"
      },
      "execution_count": null,
      "outputs": []
    }
  ]
}